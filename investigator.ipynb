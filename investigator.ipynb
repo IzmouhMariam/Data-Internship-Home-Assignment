{
 "cells": [
  {
   "cell_type": "code",
   "execution_count": 3,
   "metadata": {},
   "outputs": [
    {
     "data": {
      "text/html": [
       "<div>\n",
       "<style scoped>\n",
       "    .dataframe tbody tr th:only-of-type {\n",
       "        vertical-align: middle;\n",
       "    }\n",
       "\n",
       "    .dataframe tbody tr th {\n",
       "        vertical-align: top;\n",
       "    }\n",
       "\n",
       "    .dataframe thead th {\n",
       "        text-align: right;\n",
       "    }\n",
       "</style>\n",
       "<table border=\"1\" class=\"dataframe\">\n",
       "  <thead>\n",
       "    <tr style=\"text-align: right;\">\n",
       "      <th></th>\n",
       "      <th>index</th>\n",
       "      <th>context</th>\n",
       "    </tr>\n",
       "  </thead>\n",
       "  <tbody>\n",
       "    <tr>\n",
       "      <th>0</th>\n",
       "      <td>0</td>\n",
       "      <td>{\"@context\": \"http://schema.org\", \"@type\": \"Jo...</td>\n",
       "    </tr>\n",
       "    <tr>\n",
       "      <th>1</th>\n",
       "      <td>1</td>\n",
       "      <td>{\"@context\": \"http://schema.org\", \"@type\": \"Jo...</td>\n",
       "    </tr>\n",
       "    <tr>\n",
       "      <th>2</th>\n",
       "      <td>2</td>\n",
       "      <td>{\"@context\": \"http://schema.org\", \"@type\": \"Jo...</td>\n",
       "    </tr>\n",
       "    <tr>\n",
       "      <th>3</th>\n",
       "      <td>3</td>\n",
       "      <td>{\"@context\": \"http://schema.org\", \"@type\": \"Jo...</td>\n",
       "    </tr>\n",
       "    <tr>\n",
       "      <th>4</th>\n",
       "      <td>4</td>\n",
       "      <td>{\"@context\": \"http://schema.org\", \"@type\": \"Jo...</td>\n",
       "    </tr>\n",
       "  </tbody>\n",
       "</table>\n",
       "</div>"
      ],
      "text/plain": [
       "   index                                            context\n",
       "0      0  {\"@context\": \"http://schema.org\", \"@type\": \"Jo...\n",
       "1      1  {\"@context\": \"http://schema.org\", \"@type\": \"Jo...\n",
       "2      2  {\"@context\": \"http://schema.org\", \"@type\": \"Jo...\n",
       "3      3  {\"@context\": \"http://schema.org\", \"@type\": \"Jo...\n",
       "4      4  {\"@context\": \"http://schema.org\", \"@type\": \"Jo..."
      ]
     },
     "execution_count": 3,
     "metadata": {},
     "output_type": "execute_result"
    }
   ],
   "source": [
    "import pandas as pd \n",
    "\n",
    "data  = pd.read_csv('source/jobs.csv')\n",
    "data.columns = ['index', 'context']\n",
    "data.head()"
   ]
  },
  {
   "cell_type": "code",
   "execution_count": 4,
   "metadata": {},
   "outputs": [],
   "source": [
    "data.dropna(axis=0, inplace=True)"
   ]
  },
  {
   "cell_type": "code",
   "execution_count": 5,
   "metadata": {},
   "outputs": [
    {
     "data": {
      "text/plain": [
       "0"
      ]
     },
     "execution_count": 5,
     "metadata": {},
     "output_type": "execute_result"
    }
   ],
   "source": [
    "data.duplicated().sum()"
   ]
  },
  {
   "cell_type": "code",
   "execution_count": 7,
   "metadata": {},
   "outputs": [],
   "source": [
    "import os\n",
    "\n",
    "for i, row in data.iterrows():\n",
    "    with open(os.path.join('my', 'extract', f'{i}.txt'), 'w') as f:\n",
    "        f.write(row['context'])\n",
    "    f.close()"
   ]
  },
  {
   "cell_type": "code",
   "execution_count": 50,
   "metadata": {},
   "outputs": [],
   "source": [
    "template = {\n",
    "    \"job\": {\n",
    "        \"title\": None,\n",
    "        \"industry\": None,\n",
    "        \"description\": None,\n",
    "        \"employment_type\": None,\n",
    "        \"date_posted\": None,\n",
    "    },\n",
    "    \"company\": {\n",
    "        \"name\": None,\n",
    "        \"link\": None,\n",
    "    },\n",
    "    \"education\": {\n",
    "        \"required_credential\": None,\n",
    "    },\n",
    "    \"experience\": {\n",
    "        \"months_of_experience\": None,\n",
    "        \"seniority_level\": None,\n",
    "    },\n",
    "    \"salary\": {\n",
    "        \"currency\": None,\n",
    "        \"min_value\": None,\n",
    "        \"max_value\": None,\n",
    "        \"unit\": None,\n",
    "    },\n",
    "    \"location\": {\n",
    "        \"country\": None,\n",
    "        \"locality\": None,\n",
    "        \"region\": None,\n",
    "        \"postal_code\": None,\n",
    "        \"street_address\": None,\n",
    "        \"latitude\": None,\n",
    "        \"longitude\": None,\n",
    "    },\n",
    "}"
   ]
  },
  {
   "cell_type": "code",
   "execution_count": 9,
   "metadata": {},
   "outputs": [],
   "source": [
    "import html\n",
    "\n",
    "def text_decoder(text):\n",
    "    decoded_text = html.unescape(text)\n",
    "    utf8_text = decoded_text.encode('utf-8')\n",
    "\n",
    "    return utf8_text.decode('utf-8')"
   ]
  },
  {
   "cell_type": "code",
   "execution_count": 12,
   "metadata": {},
   "outputs": [],
   "source": [
    "import json \n",
    "\n",
    "data_as_json = []\n",
    "for file in os.listdir(os.path.join('my', 'extract')):\n",
    "    with open(os.path.join('my', 'extract', file), 'r') as f:\n",
    "        # Load the JSON data from the file\n",
    "        data = json.load(f)\n",
    "        for key in data.keys():\n",
    "            if isinstance(data[key], str):\n",
    "                data[key] = text_decoder(data[key])\n",
    "        data_as_json.append(data)\n",
    "    f.close()"
   ]
  },
  {
   "cell_type": "code",
   "execution_count": 13,
   "metadata": {},
   "outputs": [
    {
     "data": {
      "text/plain": [
       "{'@context': 'http://schema.org',\n",
       " '@type': 'JobPosting',\n",
       " 'datePosted': '2021-08-25T17:45:15.000Z',\n",
       " 'description': \"<p><strong><u>ABOUT US:</u></strong></p><p>As the leader of rehabilitative care, Encompass Health offers both facility-based and home-based patient care through its national network of rehabilitation hospitals, home health agencies, and hospice agencies that spans 42 states and Puerto Rico. Setting the standard for providing excellent care, Encompass Health has earned its place among Modern Healthcare’s “Best Places to Work in Healthcare” and the Fortune “World’s Most Admired Companies” for 2021.</p><p><br></p><p><strong><u>POSITION PURPOSE:</u></strong></p><p>The&nbsp;<strong>HRIS Security &amp; Data Maintenance Analyst</strong>&nbsp;plays an integral role in HR Systems security definition and is responsible for defining, setting up, maintaining and accurately documenting security access for all HR systems. The HRIS Security &amp; Data Maintenance Analyst also oversees application support including table setup and maintenance, data integrity, and auditing of data. Additionally, this role will assist with the overall administrative support of existing HR systems including upgrades, conversions, and problem resolution.</p><p><br></p><p><strong><u>RESPONSIBILITES &amp; TASKS:</u></strong></p><p>SECURITY &amp; AUDITS:</p><ul><li>Defines and sets up security roles and permissions for HR Systems.</li><li>Defines and maintains dynamic role and permission assignment for auto provisioning and de-provisioning.</li><li>Creates and maintains a crosswalk that outlines role permissions and assigned titles.</li><li>Creates queries/reports that extract role definitions and permissions for auditing purposes.</li><li>Acts as security administrator by processing access requests to HR applications and systems.</li><li>Ensures appropriate approvals are received for any ad hoc requests.</li><li>Serves as the SME that partners with various business areas to provide guidance on best practices and current HR security protocols.</li><li>Performs periodic audits of HR system user security/access.</li><li>Validates current company structure against employee job movement to maintain continuous access accuracy.</li><li>Looks for opportunities to increase efficiencies for common requests.</li><li>Supports employees/end users with HR system access issues.</li><li>Adheres to department’s SLA for processing requests.</li></ul><p><br></p><p>TABLE MAINTENANCE, UPLOADS &amp; DATA INTEGRITY AUDITS:</p><ul><li>Responsible for mass data uploads, coordinating with HR contacts to ensure accuracy in the process.</li><li>Performs data structure and integrity audits on employee data mass upload requests.</li><li>Seeks to minimize errors and determine impacts to downstream systems/processes, as well as impacts to employees due to requested changes/movement.</li><li>Updates system fields and tables associated with business changes and operations.</li><li>Maintains tables and security changes within HR Systems.</li><li>Proactively utilizes PeopleSoft Query, OBI Reporting or SQL tools to identify data integrity issues.</li><li>Determines the appropriate approach to ensure employee and company structure data elements are updated correctly.</li><li>Conducts data audits to identify potential non-compliance. I.e. personal data audits…duplicate NID, DOB out of guidelines.</li><li>Partners with internal audit to research and analyze potential data discrepancies.</li><li>Partners with ITG to implement automated access audit processes.</li><li>Participates in new projects through testing/implementation as it relates to access and security.</li><li>Completes mandatory training and courses required by completion date.</li><li>Reports questionable situations, concerns, complaints or harassment immediately.</li><li>Conducts audits of system process completions and reports out to business owners. i.e. Onboarding not complete.</li><li>Administers duplicate processing in ATS and other HR systems.</li><li>Ensures compliance regarding HR information sharing, management, organization, hierarchy determination, retrieval, accessibility, dissemination, sharing, and quality control.</li></ul><p><br></p><p><strong><u>Qualifications:</u></strong></p><p>Minimum Qualifications:</p><ul><li>Bachelor's degree preferred. Associate's degree with 4 years of related experience may be substituted for Bachelor's degree.</li><li>Four or more years of experience required in related field (i.e. Human Resources Operations, HRIS, HR Technology, IT, etc.).</li><li>Strong knowledge of Microsoft Word, Excel, and PowerPoint. Advanced Excel skills preferred. Strong analytic and diagnostic skills as well as a data-driven and metrics-driven approach.</li><li>Minimum 3 years of experience with PeopleSoft version 9.2 or higher preferred.</li><li>Experience with workflow analysis, business process analysis, finding improvement areas, and use of business modeling tools.</li><li>Experience with security and auditing processes.</li></ul><p><br></p><p>Machines, Equipment Used:</p><ul><li>General office equipment such as computer/laptop, telephone, copy/fax machine, calculator, scanner, etc.</li><li>Microsoft Office software, to include Outlook, Word, PowerPoint, and Excel.</li></ul><p><br></p><p>Physical Requirements:</p><ul><li>Visual acuity, speech recognition, speech clarity.</li><li>Ability to lift, lower, push, pull, and retrieve objects weighing a minimum of 15 pounds. Reasonable assistance may be requested when lifting, pushing, and/or pulling exceeds these minimum requirements.</li></ul><p><br></p><p>Skills and Abilities:</p><ul><li>Oral communication, written communication, fluency in English, active listening.</li><li>Information ordering, deductive reasoning, social perceptiveness, time management, critical thinking.</li><li>Ability to coordinate, analyze, observe, make decisions, and meet deadlines in a detail-oriented manner.</li><li>Ability to work independently without continuous supervision.</li><li>Ability to understand and react quickly to changing priorities.</li><li>Demonstrated accuracy and thoroughness while meeting customer needs in a timely manner.</li></ul><p><br></p><p>Environmental Conditions:</p><ul><li>Indoor, temperature controlled, smoke-free environment.</li><li>Handicapped accessible.</li><li>May work under stressful circumstances at times.</li></ul><p><br></p><p>Proficiency or Productivity Standards:</p><ul><li>Has regular, reliable, and predictable attendance and punctuality.</li><li>Adheres to dress code including wearing ID badge.</li><li>Adheres to Standards of Business Conduct.</li><li>May be required to work weekdays and/or weekends, evenings and/or night shifts if needed to meet deadlines.</li><li>May be required to work on religious and/or legal holidays on scheduled days/shifts.</li><li>May be required to perform other duties as assigned by supervisor.</li><li>This position will support cultural diversity by promoting and maintaining an inclusive work environment and culture that is respectful and accepting of diversity.</li></ul><p></p>\",\n",
       " 'employmentType': 'FULL_TIME',\n",
       " 'hiringOrganization': {'@type': 'Organization',\n",
       "  'name': 'Encompass Health',\n",
       "  'sameAs': 'https://www.linkedin.com/company/encompasshealth',\n",
       "  'logo': 'https://media-exp1.licdn.com/dms/image/C4E0BAQHpQqA2SsHNXg/company-logo_200_200/0/1519876508994?e=1637798400&amp;v=beta&amp;t=qDE0KKQl4-U0qbiYg9slOk7rwZAPC1kaSXPLfz-4D3k'},\n",
       " 'identifier': {'@type': 'PropertyValue', 'name': 'Encompass Health'},\n",
       " 'image': 'https://media-exp1.licdn.com/dms/image/C4E0BAQHpQqA2SsHNXg/company-logo_100_100/0/1519876508994?e=1637798400&v=beta&t=ntOyiXY57kqXVw9wuxOiuR6lRqrBVrS-f66JO1mhXqA',\n",
       " 'industry': 'Hospital & Health Care',\n",
       " 'jobLocation': {'@type': 'Place',\n",
       "  'address': {'@type': 'PostalAddress',\n",
       "   'addressCountry': 'US',\n",
       "   'addressLocality': 'Birmingham',\n",
       "   'addressRegion': 'AL',\n",
       "   'postalCode': '35226',\n",
       "   'streetAddress': None},\n",
       "  'latitude': 33.522858,\n",
       "  'longitude': -86.80771},\n",
       " 'skills': '',\n",
       " 'title': 'HRIS Security & Data Maintenance Analyst',\n",
       " 'validThrough': '2021-09-24T17:45:14.000Z',\n",
       " 'educationRequirements': {'@type': 'EducationalOccupationalCredential',\n",
       "  'credentialCategory': 'bachelor degree'},\n",
       " 'experienceRequirements': {'@type': 'OccupationalExperienceRequirements',\n",
       "  'monthsOfExperience': 48}}"
      ]
     },
     "execution_count": 13,
     "metadata": {},
     "output_type": "execute_result"
    }
   ],
   "source": [
    "data_as_json[0]"
   ]
  },
  {
   "cell_type": "code",
   "execution_count": 45,
   "metadata": {},
   "outputs": [
    {
     "data": {
      "text/plain": [
       "{'job': {'title': 'Software Engineer, Early Career',\n",
       "  'industry': 'Information Services,Internet',\n",
       "  'description': \"<strong>Please complete your application before August 13, 2021.</strong> By applying to this position, you will be considered for all potential Software Engineering opportunities. Roles may vary by location and will be discussed in more detail with your recruiter after completion of onsite interviews.<br><br>This program is intended for candidates with 1 to 3 years of experience. If you have less than 1 year of experience, please check the students careers site for internships and university graduate opportunities. If you have more than 3 years of experience, please check our industry openings.<br><br>Note: By applying to this position you will have an opportunity to share your preferred working location for this position from the following: <strong>Mountain View, CA, USA; Atlanta, GA, USA; Austin, TX, USA; Boulder, CO, USA; Cambridge, MA, USA; Chicago, IL, USA; Irvine, CA, USA; Los Angeles, CA, USA; Madison, WI, USA; New York, NY, USA; Pittsburgh, PA, USA; Durham, NC, USA; San Bruno, CA, USA; Seattle, WA, USA; Washington, DC, USA<br><br></strong>Minimum qualifications:<br><ul><li>Bachelor’s degree or equivalent practical experience. </li><li>1 year of software development experience.</li><li>Experience programming with two or more of the following languages: C, C++, C#, Java, JavaScript, Go and/or Python.</li><li>Experience working one or more of the following: web or mobile application development, Unix/Linux environments, distributed and parallel systems, machine learning, information retrieval, natural language processing, networking, developing large software systems, and/or security software development.<br><br></li></ul>Preferred qualifications:<br><ul><li>Experience developing accessible technologies.</li><li>Interest and ability to learn other coding languages.</li><li>Working proficiency in verbal and written English.<br><br></li></ul><strong><u>About The Job<br><br></u></strong>Google's software engineers develop the next-generation technologies that change how billions of users connect, explore, and interact with information and one another. Our products need to handle information at massive scale, and extend well beyond web search. We're looking for engineers who bring fresh ideas from all areas, including information retrieval, distributed computing, large-scale system design, networking and data storage, security, artificial intelligence, natural language processing, UI design and mobile; the list goes on and is growing every day. As a software engineer, you will work on a specific project critical to Google’s needs with opportunities to switch teams and projects as you and our fast-paced business grow and evolve. We need our engineers to be versatile, display leadership qualities and be enthusiastic to take on new problems across the full-stack as we continue to push technology forward.<br><br>Google aspires to be an organization that reflects the globally diverse audience that our products and technology serve. We believe that in addition to hiring the best talent, a diversity of perspectives, ideas, and cultures leads to the creation of better products and services.<br><br>Google is and always will be an engineering company. We hire people with a broad set of technical skills who are ready to take on some of technology's greatest challenges and make an impact on millions, if not billions, of users. At Google, engineers not only revolutionize search, they routinely work on massive scalability and storage solutions, large-scale applications and entirely new platforms for developers around the world. From Google Ads to Chrome, Android to YouTube, Social to Local, Google engineers are changing the world one technological achievement after another.<br><br><strong><u>Additional Information<br><br></u></strong>(Colorado only*) Minimum salary of $111,000 + bonus + equity + benefits.<br><ul><li>Note: Disclosure as required by sb19-085 (8-5-20) of the minimum salary compensation for this role when being hired into our offices in Colorado.<br><br></li></ul><strong><u>Responsibilities<br><br></u></strong><ul><li>Design, develop, test, deploy, maintain, and improve software.</li><li>Manage individual project priorities, deadlines, and deliverables.<br><br></li></ul>Google is proud to be an equal opportunity workplace and is an affirmative action employer. We are committed to equal employment opportunity regardless of race, color, ancestry, religion, sex, national origin, sexual orientation, age, citizenship, marital status, disability, gender identity or Veteran status. We also consider qualified applicants regardless of criminal histories, consistent with legal requirements. See also Google's EEO Policy and EEO is the Law. If you have a disability or special need that requires accommodation, please let us know by completing our Accommodations for Applicants form .\",\n",
       "  'employment_type': 'FULL_TIME',\n",
       "  'date_posted': '2021-08-10T19:26:35.000Z'},\n",
       " 'company': {'name': 'Apple',\n",
       "  'link': 'https://www.linkedin.com/company/apple'},\n",
       " 'education': {'required_credential': 'bachelor degree'},\n",
       " 'experience': {'months_of_experience': 36, 'seniority_level': \"I don't know\"},\n",
       " 'salary': {'currency': 'USD',\n",
       "  'min_value': 88200,\n",
       "  'max_value': 122000,\n",
       "  'unit': 'YEAR'},\n",
       " 'location': {'country': 'US',\n",
       "  'locality': 'Seattle',\n",
       "  'region': 'WA',\n",
       "  'postal_code': '98133',\n",
       "  'street_address': None,\n",
       "  'latitude': 47.60323,\n",
       "  'longitude': -122.33028}}"
      ]
     },
     "execution_count": 45,
     "metadata": {},
     "output_type": "execute_result"
    }
   ],
   "source": [
    "job_mapping = {\n",
    "    'date_posted': 'datePosted',\n",
    "    'description': 'description',\n",
    "    'employment_type': 'employmentType',\n",
    "    'industry': 'industry',\n",
    "    'title': 'title'\n",
    "}\n",
    "location_mapping = {\n",
    "    'country': 'jobLocation.address.addressCountry',\n",
    "    'latitude': 'jobLocation.latitude',\n",
    "    'locality': 'jobLocation.address.addressLocality',\n",
    "    'longitude': 'jobLocation.longitude',\n",
    "    'postal_code': 'jobLocation.address.postalCode',\n",
    "    'region': 'jobLocation.address.addressRegion',\n",
    "    'street_address': 'jobLocation.address.streetAddress',\n",
    "}\n",
    "company_mapping = {\n",
    "    'link': 'hiringOrganization.sameAs',\n",
    "    'name': 'hiringOrganization.name',\n",
    "}\n",
    "salary_mapping = {\n",
    "    'currency': 'estimatedSalary.currency',\n",
    "    'max_value': 'estimatedSalary.value.maxValue',\n",
    "    'min_value': 'estimatedSalary.value.minValue',\n",
    "    'unit': 'estimatedSalary.value.unitText',\n",
    "}\n",
    "for data in data_as_json:\n",
    "    for key_in_template, key_in_data in job_mapping.items():\n",
    "        if key_in_data in data.keys():\n",
    "            template['job'][key_in_template] = data[key_in_data]\n",
    "\n",
    "    for key_in_template, key_in_data in company_mapping.items():\n",
    "        if key_in_data in data.keys():\n",
    "            keys = key_in_data.split('.')\n",
    "            value = data\n",
    "            for key in keys:\n",
    "                if key in value:\n",
    "                    value = value[key]\n",
    "                else:\n",
    "                    break\n",
    "            else:\n",
    "                template['company'][key_in_template] = value\n",
    "\n",
    "    if 'educationRequirements' in data.keys() and isinstance(data['educationRequirements'], dict):\n",
    "        template['education']['required_credential'] = data['educationRequirements']['credentialCategory']\n",
    "    if 'experienceRequirements' in data.keys() and isinstance(data['experienceRequirements'], dict):\n",
    "        template['experience']['months_of_experience'] = data['experienceRequirements']['monthsOfExperience']\n",
    "    template['experience']['seniority_level'] = \"I don't know\"\n",
    "\n",
    "    for key_in_template, key_in_data in location_mapping.items():\n",
    "        if key_in_data in data.keys():\n",
    "            keys = key_in_data.split('.')\n",
    "            value = data\n",
    "            for key in keys:\n",
    "                if key in value:\n",
    "                    value = value[key]\n",
    "                else:\n",
    "                    break\n",
    "            else:\n",
    "                template['location'][key_in_template] = value\n",
    "\n",
    "    for key_in_template, key_in_data in salary_mapping.items():\n",
    "        if key_in_data in data.keys():\n",
    "            keys = key_in_data.split('.')\n",
    "            value = data\n",
    "            for key in keys:\n",
    "                if key in value:\n",
    "                    value = value[key]\n",
    "                else:\n",
    "                    break\n",
    "            else:\n",
    "                template['salary'][key_in_template] = value\n",
    "\n",
    "template"
   ]
  },
  {
   "cell_type": "code",
   "execution_count": 51,
   "metadata": {},
   "outputs": [],
   "source": [
    "def extract_nested_value(data, keys_path):\n",
    "    for key in keys_path:\n",
    "        if key in data:\n",
    "            data = data[key]\n",
    "        else:\n",
    "            return None\n",
    "    return data\n",
    "\n",
    "job_mapping = {\n",
    "    'date_posted': 'datePosted',\n",
    "    'description': 'description',\n",
    "    'employment_type': 'employmentType',\n",
    "    'industry': 'industry',\n",
    "    'title': 'title'\n",
    "}\n",
    "location_mapping = {\n",
    "    'country': 'jobLocation.address.addressCountry',\n",
    "    'latitude': 'jobLocation.latitude',\n",
    "    'locality': 'jobLocation.address.addressLocality',\n",
    "    'longitude': 'jobLocation.longitude',\n",
    "    'postal_code': 'jobLocation.address.postalCode',\n",
    "    'region': 'jobLocation.address.addressRegion',\n",
    "    'street_address': 'jobLocation.address.streetAddress',\n",
    "}\n",
    "company_mapping = {\n",
    "    'link': 'hiringOrganization.sameAs',\n",
    "    'name': 'hiringOrganization.name',\n",
    "}\n",
    "salary_mapping = {\n",
    "    'currency': 'estimatedSalary.currency',\n",
    "    'max_value': 'estimatedSalary.value.maxValue',\n",
    "    'min_value': 'estimatedSalary.value.minValue',\n",
    "    'unit': 'estimatedSalary.value.unitText',\n",
    "}\n",
    "transformed_data = []\n",
    "for data in data_as_json:\n",
    "    fill_template = template\n",
    "    for key_in_template, key_in_data in job_mapping.items():\n",
    "        fill_template['job'][key_in_template] = data.get(key_in_data, None)\n",
    "\n",
    "    for key_in_template, key_in_data in company_mapping.items():\n",
    "        fill_template['company'][key_in_template] = extract_nested_value(data, key_in_data.split('.'))\n",
    "\n",
    "    fill_template['education']['required_credential'] = extract_nested_value(data, 'educationRequirements.credentialCategory'.split('.'))\n",
    "\n",
    "    if 'experienceRequirements' in data and isinstance(data['experienceRequirements'], dict):\n",
    "        fill_template['experience']['months_of_experience'] = data['experienceRequirements'].get('monthsOfExperience', None)\n",
    "    fill_template['experience']['seniority_level'] = \"I don't know\"\n",
    "\n",
    "    for key_in_template, key_in_data in location_mapping.items():\n",
    "        fill_template['location'][key_in_template] = extract_nested_value(data, key_in_data.split('.'))\n",
    "\n",
    "    for key_in_template, key_in_data in salary_mapping.items():\n",
    "        fill_template['salary'][key_in_template] = extract_nested_value(data, key_in_data.split('.'))\n",
    "    \n",
    "    transformed_data.append(template)"
   ]
  },
  {
   "cell_type": "code",
   "execution_count": 55,
   "metadata": {},
   "outputs": [
    {
     "data": {
      "text/plain": [
       "{'job': {'title': 'Software Engineer, Early Career',\n",
       "  'industry': 'Information Services,Internet',\n",
       "  'description': \"<strong>Please complete your application before August 13, 2021.</strong> By applying to this position, you will be considered for all potential Software Engineering opportunities. Roles may vary by location and will be discussed in more detail with your recruiter after completion of onsite interviews.<br><br>This program is intended for candidates with 1 to 3 years of experience. If you have less than 1 year of experience, please check the students careers site for internships and university graduate opportunities. If you have more than 3 years of experience, please check our industry openings.<br><br>Note: By applying to this position you will have an opportunity to share your preferred working location for this position from the following: <strong>Mountain View, CA, USA; Atlanta, GA, USA; Austin, TX, USA; Boulder, CO, USA; Cambridge, MA, USA; Chicago, IL, USA; Irvine, CA, USA; Los Angeles, CA, USA; Madison, WI, USA; New York, NY, USA; Pittsburgh, PA, USA; Durham, NC, USA; San Bruno, CA, USA; Seattle, WA, USA; Washington, DC, USA<br><br></strong>Minimum qualifications:<br><ul><li>Bachelor’s degree or equivalent practical experience. </li><li>1 year of software development experience.</li><li>Experience programming with two or more of the following languages: C, C++, C#, Java, JavaScript, Go and/or Python.</li><li>Experience working one or more of the following: web or mobile application development, Unix/Linux environments, distributed and parallel systems, machine learning, information retrieval, natural language processing, networking, developing large software systems, and/or security software development.<br><br></li></ul>Preferred qualifications:<br><ul><li>Experience developing accessible technologies.</li><li>Interest and ability to learn other coding languages.</li><li>Working proficiency in verbal and written English.<br><br></li></ul><strong><u>About The Job<br><br></u></strong>Google's software engineers develop the next-generation technologies that change how billions of users connect, explore, and interact with information and one another. Our products need to handle information at massive scale, and extend well beyond web search. We're looking for engineers who bring fresh ideas from all areas, including information retrieval, distributed computing, large-scale system design, networking and data storage, security, artificial intelligence, natural language processing, UI design and mobile; the list goes on and is growing every day. As a software engineer, you will work on a specific project critical to Google’s needs with opportunities to switch teams and projects as you and our fast-paced business grow and evolve. We need our engineers to be versatile, display leadership qualities and be enthusiastic to take on new problems across the full-stack as we continue to push technology forward.<br><br>Google aspires to be an organization that reflects the globally diverse audience that our products and technology serve. We believe that in addition to hiring the best talent, a diversity of perspectives, ideas, and cultures leads to the creation of better products and services.<br><br>Google is and always will be an engineering company. We hire people with a broad set of technical skills who are ready to take on some of technology's greatest challenges and make an impact on millions, if not billions, of users. At Google, engineers not only revolutionize search, they routinely work on massive scalability and storage solutions, large-scale applications and entirely new platforms for developers around the world. From Google Ads to Chrome, Android to YouTube, Social to Local, Google engineers are changing the world one technological achievement after another.<br><br><strong><u>Additional Information<br><br></u></strong>(Colorado only*) Minimum salary of $111,000 + bonus + equity + benefits.<br><ul><li>Note: Disclosure as required by sb19-085 (8-5-20) of the minimum salary compensation for this role when being hired into our offices in Colorado.<br><br></li></ul><strong><u>Responsibilities<br><br></u></strong><ul><li>Design, develop, test, deploy, maintain, and improve software.</li><li>Manage individual project priorities, deadlines, and deliverables.<br><br></li></ul>Google is proud to be an equal opportunity workplace and is an affirmative action employer. We are committed to equal employment opportunity regardless of race, color, ancestry, religion, sex, national origin, sexual orientation, age, citizenship, marital status, disability, gender identity or Veteran status. We also consider qualified applicants regardless of criminal histories, consistent with legal requirements. See also Google's EEO Policy and EEO is the Law. If you have a disability or special need that requires accommodation, please let us know by completing our Accommodations for Applicants form .\",\n",
       "  'employment_type': 'FULL_TIME',\n",
       "  'date_posted': '2021-08-10T19:26:35.000Z'},\n",
       " 'company': {'name': 'Google',\n",
       "  'link': 'https://www.linkedin.com/company/google'},\n",
       " 'education': {'required_credential': 'bachelor degree'},\n",
       " 'experience': {'months_of_experience': 36, 'seniority_level': \"I don't know\"},\n",
       " 'salary': {'currency': None,\n",
       "  'min_value': None,\n",
       "  'max_value': None,\n",
       "  'unit': None},\n",
       " 'location': {'country': 'US',\n",
       "  'locality': 'San Bruno',\n",
       "  'region': 'CA',\n",
       "  'postal_code': '94067',\n",
       "  'street_address': None,\n",
       "  'latitude': 37.627277,\n",
       "  'longitude': -122.416145}}"
      ]
     },
     "execution_count": 55,
     "metadata": {},
     "output_type": "execute_result"
    }
   ],
   "source": [
    "template"
   ]
  },
  {
   "cell_type": "code",
   "execution_count": 56,
   "metadata": {},
   "outputs": [],
   "source": [
    "mapping = {\n",
    "    'job': {\n",
    "        'date_posted': 'datePosted',\n",
    "        'description': 'description',\n",
    "        'employment_type': 'employmentType',\n",
    "        'industry': 'industry',\n",
    "        'title': 'title',\n",
    "    },\n",
    "    'location': {\n",
    "        'country': 'jobLocation.address.addressCountry',\n",
    "        'latitude': 'jobLocation.latitude',\n",
    "        'locality': 'jobLocation.address.addressLocality',\n",
    "        'longitude': 'jobLocation.longitude',\n",
    "        'postal_code': 'jobLocation.address.postalCode',\n",
    "        'region': 'jobLocation.address.addressRegion',\n",
    "        'street_address': 'jobLocation.address.streetAddress',\n",
    "    },\n",
    "    'company': {\n",
    "        'link': 'hiringOrganization.sameAs',\n",
    "        'name': 'hiringOrganization.name',\n",
    "    },\n",
    "    'salary': {\n",
    "        'currency': 'estimatedSalary.currency',\n",
    "        'max_value': 'estimatedSalary.value.maxValue',\n",
    "        'min_value': 'estimatedSalary.value.minValue',\n",
    "        'unit': 'estimatedSalary.value.unitText',\n",
    "    },\n",
    "    'education': {\n",
    "        'required_credential': 'educationRequirements.credentialCategory',\n",
    "    },\n",
    "    'experience': {\n",
    "        'months_of_experience': 'experienceRequirements.monthsOfExperience',\n",
    "        'seniority_level': \"I don't know\",\n",
    "    },\n",
    "}\n",
    "transformed_data = []\n",
    "for data in data_as_json:\n",
    "    template = {\n",
    "        \"job\": {\n",
    "            \"title\": None,\n",
    "            \"industry\": None,\n",
    "            \"description\": None,\n",
    "            \"employment_type\": None,\n",
    "            \"date_posted\": None,\n",
    "        },\n",
    "        \"company\": {\n",
    "            \"name\": None,\n",
    "            \"link\": None,\n",
    "        },\n",
    "        \"education\": {\n",
    "            \"required_credential\": None,\n",
    "        },\n",
    "        \"experience\": {\n",
    "            \"months_of_experience\": None,\n",
    "            \"seniority_level\": None,\n",
    "        },\n",
    "        \"salary\": {\n",
    "            \"currency\": None,\n",
    "            \"min_value\": None,\n",
    "            \"max_value\": None,\n",
    "            \"unit\": None,\n",
    "        },\n",
    "        \"location\": {\n",
    "            \"country\": None,\n",
    "            \"locality\": None,\n",
    "            \"region\": None,\n",
    "            \"postal_code\": None,\n",
    "            \"street_address\": None,\n",
    "            \"latitude\": None,\n",
    "            \"longitude\": None,\n",
    "        },\n",
    "    }\n",
    "    for section, section_mapping in mapping.items():\n",
    "        for key_in_template, key_in_data in section_mapping.items():\n",
    "            keys = key_in_data.split('.')\n",
    "            value = data\n",
    "            for key in keys:\n",
    "                if key in value:\n",
    "                    value = value[key]\n",
    "                else:\n",
    "                    break\n",
    "            else:\n",
    "                template[section][key_in_template] = value\n",
    "    transformed_data.append(template)\n"
   ]
  },
  {
   "cell_type": "code",
   "execution_count": 54,
   "metadata": {},
   "outputs": [
    {
     "data": {
      "text/plain": [
       "7685"
      ]
     },
     "execution_count": 54,
     "metadata": {},
     "output_type": "execute_result"
    }
   ],
   "source": [
    "len(data_as_json)"
   ]
  },
  {
   "cell_type": "code",
   "execution_count": 49,
   "metadata": {},
   "outputs": [
    {
     "data": {
      "text/plain": [
       "{'@context': 'http://schema.org',\n",
       " '@type': 'JobPosting',\n",
       " 'datePosted': '2021-08-25T17:45:15.000Z',\n",
       " 'description': \"<p><strong><u>ABOUT US:</u></strong></p><p>As the leader of rehabilitative care, Encompass Health offers both facility-based and home-based patient care through its national network of rehabilitation hospitals, home health agencies, and hospice agencies that spans 42 states and Puerto Rico. Setting the standard for providing excellent care, Encompass Health has earned its place among Modern Healthcare’s “Best Places to Work in Healthcare” and the Fortune “World’s Most Admired Companies” for 2021.</p><p><br></p><p><strong><u>POSITION PURPOSE:</u></strong></p><p>The&nbsp;<strong>HRIS Security &amp; Data Maintenance Analyst</strong>&nbsp;plays an integral role in HR Systems security definition and is responsible for defining, setting up, maintaining and accurately documenting security access for all HR systems. The HRIS Security &amp; Data Maintenance Analyst also oversees application support including table setup and maintenance, data integrity, and auditing of data. Additionally, this role will assist with the overall administrative support of existing HR systems including upgrades, conversions, and problem resolution.</p><p><br></p><p><strong><u>RESPONSIBILITES &amp; TASKS:</u></strong></p><p>SECURITY &amp; AUDITS:</p><ul><li>Defines and sets up security roles and permissions for HR Systems.</li><li>Defines and maintains dynamic role and permission assignment for auto provisioning and de-provisioning.</li><li>Creates and maintains a crosswalk that outlines role permissions and assigned titles.</li><li>Creates queries/reports that extract role definitions and permissions for auditing purposes.</li><li>Acts as security administrator by processing access requests to HR applications and systems.</li><li>Ensures appropriate approvals are received for any ad hoc requests.</li><li>Serves as the SME that partners with various business areas to provide guidance on best practices and current HR security protocols.</li><li>Performs periodic audits of HR system user security/access.</li><li>Validates current company structure against employee job movement to maintain continuous access accuracy.</li><li>Looks for opportunities to increase efficiencies for common requests.</li><li>Supports employees/end users with HR system access issues.</li><li>Adheres to department’s SLA for processing requests.</li></ul><p><br></p><p>TABLE MAINTENANCE, UPLOADS &amp; DATA INTEGRITY AUDITS:</p><ul><li>Responsible for mass data uploads, coordinating with HR contacts to ensure accuracy in the process.</li><li>Performs data structure and integrity audits on employee data mass upload requests.</li><li>Seeks to minimize errors and determine impacts to downstream systems/processes, as well as impacts to employees due to requested changes/movement.</li><li>Updates system fields and tables associated with business changes and operations.</li><li>Maintains tables and security changes within HR Systems.</li><li>Proactively utilizes PeopleSoft Query, OBI Reporting or SQL tools to identify data integrity issues.</li><li>Determines the appropriate approach to ensure employee and company structure data elements are updated correctly.</li><li>Conducts data audits to identify potential non-compliance. I.e. personal data audits…duplicate NID, DOB out of guidelines.</li><li>Partners with internal audit to research and analyze potential data discrepancies.</li><li>Partners with ITG to implement automated access audit processes.</li><li>Participates in new projects through testing/implementation as it relates to access and security.</li><li>Completes mandatory training and courses required by completion date.</li><li>Reports questionable situations, concerns, complaints or harassment immediately.</li><li>Conducts audits of system process completions and reports out to business owners. i.e. Onboarding not complete.</li><li>Administers duplicate processing in ATS and other HR systems.</li><li>Ensures compliance regarding HR information sharing, management, organization, hierarchy determination, retrieval, accessibility, dissemination, sharing, and quality control.</li></ul><p><br></p><p><strong><u>Qualifications:</u></strong></p><p>Minimum Qualifications:</p><ul><li>Bachelor's degree preferred. Associate's degree with 4 years of related experience may be substituted for Bachelor's degree.</li><li>Four or more years of experience required in related field (i.e. Human Resources Operations, HRIS, HR Technology, IT, etc.).</li><li>Strong knowledge of Microsoft Word, Excel, and PowerPoint. Advanced Excel skills preferred. Strong analytic and diagnostic skills as well as a data-driven and metrics-driven approach.</li><li>Minimum 3 years of experience with PeopleSoft version 9.2 or higher preferred.</li><li>Experience with workflow analysis, business process analysis, finding improvement areas, and use of business modeling tools.</li><li>Experience with security and auditing processes.</li></ul><p><br></p><p>Machines, Equipment Used:</p><ul><li>General office equipment such as computer/laptop, telephone, copy/fax machine, calculator, scanner, etc.</li><li>Microsoft Office software, to include Outlook, Word, PowerPoint, and Excel.</li></ul><p><br></p><p>Physical Requirements:</p><ul><li>Visual acuity, speech recognition, speech clarity.</li><li>Ability to lift, lower, push, pull, and retrieve objects weighing a minimum of 15 pounds. Reasonable assistance may be requested when lifting, pushing, and/or pulling exceeds these minimum requirements.</li></ul><p><br></p><p>Skills and Abilities:</p><ul><li>Oral communication, written communication, fluency in English, active listening.</li><li>Information ordering, deductive reasoning, social perceptiveness, time management, critical thinking.</li><li>Ability to coordinate, analyze, observe, make decisions, and meet deadlines in a detail-oriented manner.</li><li>Ability to work independently without continuous supervision.</li><li>Ability to understand and react quickly to changing priorities.</li><li>Demonstrated accuracy and thoroughness while meeting customer needs in a timely manner.</li></ul><p><br></p><p>Environmental Conditions:</p><ul><li>Indoor, temperature controlled, smoke-free environment.</li><li>Handicapped accessible.</li><li>May work under stressful circumstances at times.</li></ul><p><br></p><p>Proficiency or Productivity Standards:</p><ul><li>Has regular, reliable, and predictable attendance and punctuality.</li><li>Adheres to dress code including wearing ID badge.</li><li>Adheres to Standards of Business Conduct.</li><li>May be required to work weekdays and/or weekends, evenings and/or night shifts if needed to meet deadlines.</li><li>May be required to work on religious and/or legal holidays on scheduled days/shifts.</li><li>May be required to perform other duties as assigned by supervisor.</li><li>This position will support cultural diversity by promoting and maintaining an inclusive work environment and culture that is respectful and accepting of diversity.</li></ul><p></p>\",\n",
       " 'employmentType': 'FULL_TIME',\n",
       " 'hiringOrganization': {'@type': 'Organization',\n",
       "  'name': 'Encompass Health',\n",
       "  'sameAs': 'https://www.linkedin.com/company/encompasshealth',\n",
       "  'logo': 'https://media-exp1.licdn.com/dms/image/C4E0BAQHpQqA2SsHNXg/company-logo_200_200/0/1519876508994?e=1637798400&amp;v=beta&amp;t=qDE0KKQl4-U0qbiYg9slOk7rwZAPC1kaSXPLfz-4D3k'},\n",
       " 'identifier': {'@type': 'PropertyValue', 'name': 'Encompass Health'},\n",
       " 'image': 'https://media-exp1.licdn.com/dms/image/C4E0BAQHpQqA2SsHNXg/company-logo_100_100/0/1519876508994?e=1637798400&v=beta&t=ntOyiXY57kqXVw9wuxOiuR6lRqrBVrS-f66JO1mhXqA',\n",
       " 'industry': 'Hospital & Health Care',\n",
       " 'jobLocation': {'@type': 'Place',\n",
       "  'address': {'@type': 'PostalAddress',\n",
       "   'addressCountry': 'US',\n",
       "   'addressLocality': 'Birmingham',\n",
       "   'addressRegion': 'AL',\n",
       "   'postalCode': '35226',\n",
       "   'streetAddress': None},\n",
       "  'latitude': 33.522858,\n",
       "  'longitude': -86.80771},\n",
       " 'skills': '',\n",
       " 'title': 'HRIS Security & Data Maintenance Analyst',\n",
       " 'validThrough': '2021-09-24T17:45:14.000Z',\n",
       " 'educationRequirements': {'@type': 'EducationalOccupationalCredential',\n",
       "  'credentialCategory': 'bachelor degree'},\n",
       " 'experienceRequirements': {'@type': 'OccupationalExperienceRequirements',\n",
       "  'monthsOfExperience': 48}}"
      ]
     },
     "execution_count": 49,
     "metadata": {},
     "output_type": "execute_result"
    }
   ],
   "source": [
    "data_as_json[0]"
   ]
  },
  {
   "cell_type": "code",
   "execution_count": 57,
   "metadata": {},
   "outputs": [
    {
     "data": {
      "text/plain": [
       "{'job': {'title': 'HRIS Security & Data Maintenance Analyst',\n",
       "  'industry': 'Hospital & Health Care',\n",
       "  'description': \"<p><strong><u>ABOUT US:</u></strong></p><p>As the leader of rehabilitative care, Encompass Health offers both facility-based and home-based patient care through its national network of rehabilitation hospitals, home health agencies, and hospice agencies that spans 42 states and Puerto Rico. Setting the standard for providing excellent care, Encompass Health has earned its place among Modern Healthcare’s “Best Places to Work in Healthcare” and the Fortune “World’s Most Admired Companies” for 2021.</p><p><br></p><p><strong><u>POSITION PURPOSE:</u></strong></p><p>The&nbsp;<strong>HRIS Security &amp; Data Maintenance Analyst</strong>&nbsp;plays an integral role in HR Systems security definition and is responsible for defining, setting up, maintaining and accurately documenting security access for all HR systems. The HRIS Security &amp; Data Maintenance Analyst also oversees application support including table setup and maintenance, data integrity, and auditing of data. Additionally, this role will assist with the overall administrative support of existing HR systems including upgrades, conversions, and problem resolution.</p><p><br></p><p><strong><u>RESPONSIBILITES &amp; TASKS:</u></strong></p><p>SECURITY &amp; AUDITS:</p><ul><li>Defines and sets up security roles and permissions for HR Systems.</li><li>Defines and maintains dynamic role and permission assignment for auto provisioning and de-provisioning.</li><li>Creates and maintains a crosswalk that outlines role permissions and assigned titles.</li><li>Creates queries/reports that extract role definitions and permissions for auditing purposes.</li><li>Acts as security administrator by processing access requests to HR applications and systems.</li><li>Ensures appropriate approvals are received for any ad hoc requests.</li><li>Serves as the SME that partners with various business areas to provide guidance on best practices and current HR security protocols.</li><li>Performs periodic audits of HR system user security/access.</li><li>Validates current company structure against employee job movement to maintain continuous access accuracy.</li><li>Looks for opportunities to increase efficiencies for common requests.</li><li>Supports employees/end users with HR system access issues.</li><li>Adheres to department’s SLA for processing requests.</li></ul><p><br></p><p>TABLE MAINTENANCE, UPLOADS &amp; DATA INTEGRITY AUDITS:</p><ul><li>Responsible for mass data uploads, coordinating with HR contacts to ensure accuracy in the process.</li><li>Performs data structure and integrity audits on employee data mass upload requests.</li><li>Seeks to minimize errors and determine impacts to downstream systems/processes, as well as impacts to employees due to requested changes/movement.</li><li>Updates system fields and tables associated with business changes and operations.</li><li>Maintains tables and security changes within HR Systems.</li><li>Proactively utilizes PeopleSoft Query, OBI Reporting or SQL tools to identify data integrity issues.</li><li>Determines the appropriate approach to ensure employee and company structure data elements are updated correctly.</li><li>Conducts data audits to identify potential non-compliance. I.e. personal data audits…duplicate NID, DOB out of guidelines.</li><li>Partners with internal audit to research and analyze potential data discrepancies.</li><li>Partners with ITG to implement automated access audit processes.</li><li>Participates in new projects through testing/implementation as it relates to access and security.</li><li>Completes mandatory training and courses required by completion date.</li><li>Reports questionable situations, concerns, complaints or harassment immediately.</li><li>Conducts audits of system process completions and reports out to business owners. i.e. Onboarding not complete.</li><li>Administers duplicate processing in ATS and other HR systems.</li><li>Ensures compliance regarding HR information sharing, management, organization, hierarchy determination, retrieval, accessibility, dissemination, sharing, and quality control.</li></ul><p><br></p><p><strong><u>Qualifications:</u></strong></p><p>Minimum Qualifications:</p><ul><li>Bachelor's degree preferred. Associate's degree with 4 years of related experience may be substituted for Bachelor's degree.</li><li>Four or more years of experience required in related field (i.e. Human Resources Operations, HRIS, HR Technology, IT, etc.).</li><li>Strong knowledge of Microsoft Word, Excel, and PowerPoint. Advanced Excel skills preferred. Strong analytic and diagnostic skills as well as a data-driven and metrics-driven approach.</li><li>Minimum 3 years of experience with PeopleSoft version 9.2 or higher preferred.</li><li>Experience with workflow analysis, business process analysis, finding improvement areas, and use of business modeling tools.</li><li>Experience with security and auditing processes.</li></ul><p><br></p><p>Machines, Equipment Used:</p><ul><li>General office equipment such as computer/laptop, telephone, copy/fax machine, calculator, scanner, etc.</li><li>Microsoft Office software, to include Outlook, Word, PowerPoint, and Excel.</li></ul><p><br></p><p>Physical Requirements:</p><ul><li>Visual acuity, speech recognition, speech clarity.</li><li>Ability to lift, lower, push, pull, and retrieve objects weighing a minimum of 15 pounds. Reasonable assistance may be requested when lifting, pushing, and/or pulling exceeds these minimum requirements.</li></ul><p><br></p><p>Skills and Abilities:</p><ul><li>Oral communication, written communication, fluency in English, active listening.</li><li>Information ordering, deductive reasoning, social perceptiveness, time management, critical thinking.</li><li>Ability to coordinate, analyze, observe, make decisions, and meet deadlines in a detail-oriented manner.</li><li>Ability to work independently without continuous supervision.</li><li>Ability to understand and react quickly to changing priorities.</li><li>Demonstrated accuracy and thoroughness while meeting customer needs in a timely manner.</li></ul><p><br></p><p>Environmental Conditions:</p><ul><li>Indoor, temperature controlled, smoke-free environment.</li><li>Handicapped accessible.</li><li>May work under stressful circumstances at times.</li></ul><p><br></p><p>Proficiency or Productivity Standards:</p><ul><li>Has regular, reliable, and predictable attendance and punctuality.</li><li>Adheres to dress code including wearing ID badge.</li><li>Adheres to Standards of Business Conduct.</li><li>May be required to work weekdays and/or weekends, evenings and/or night shifts if needed to meet deadlines.</li><li>May be required to work on religious and/or legal holidays on scheduled days/shifts.</li><li>May be required to perform other duties as assigned by supervisor.</li><li>This position will support cultural diversity by promoting and maintaining an inclusive work environment and culture that is respectful and accepting of diversity.</li></ul><p></p>\",\n",
       "  'employment_type': 'FULL_TIME',\n",
       "  'date_posted': '2021-08-25T17:45:15.000Z'},\n",
       " 'company': {'name': 'Encompass Health',\n",
       "  'link': 'https://www.linkedin.com/company/encompasshealth'},\n",
       " 'education': {'required_credential': 'bachelor degree'},\n",
       " 'experience': {'months_of_experience': 48, 'seniority_level': None},\n",
       " 'salary': {'currency': None,\n",
       "  'min_value': None,\n",
       "  'max_value': None,\n",
       "  'unit': None},\n",
       " 'location': {'country': 'US',\n",
       "  'locality': 'Birmingham',\n",
       "  'region': 'AL',\n",
       "  'postal_code': '35226',\n",
       "  'street_address': None,\n",
       "  'latitude': 33.522858,\n",
       "  'longitude': -86.80771}}"
      ]
     },
     "execution_count": 57,
     "metadata": {},
     "output_type": "execute_result"
    }
   ],
   "source": [
    "transformed_data[0]"
   ]
  },
  {
   "cell_type": "code",
   "execution_count": null,
   "metadata": {},
   "outputs": [],
   "source": [
    "\"\"\"<p><strong><u>ABOUT US:</u></strong></p><p>As the leader of rehabilitative care, Encompass Health offers both facility-based and home-based patient care through its \n",
    "national network of rehabilitation hospitals, home health agencies, and hospice agencies that spans 42 states and Puerto Rico. Setting the standard for providing excellent \n",
    "care, Encompass Health has earned its place among Modern Healthcare’s “Best Places to Work in Healthcare” and the Fortune “World’s Most Admired Companies” for 2021.\n",
    "</p><p><br></p><p><strong><u>POSITION PURPOSE:</u></strong></p><p>The&nbsp;<strong>HRIS Security &amp; Data Maintenance Analyst</strong>&nbsp;plays an integral role in HR \n",
    "Systems security definition and is responsible for defining, setting up, maintaining and accurately documenting security access for all HR systems. The HRIS Security &amp; \n",
    "Data Maintenance Analyst also oversees application support including table setup and maintenance, data integrity, and auditing of data. Additionally, this role will assist \n",
    "with the overall administrative support of existing HR systems including upgrades, conversions, and problem resolution.</p><p><br></p><p><strong><u>RESPONSIBILITES &amp; \n",
    "TASKS:</u></strong></p><p>SECURITY &amp; AUDITS:</p><ul><li>Defines and sets up security roles and permissions for HR Systems.</li><li>Defines and maintains dynamic role \n",
    "and permission assignment for auto provisioning and de-provisioning.</li><li>Creates and maintains a crosswalk that outlines role permissions and assigned titles.</li><li>\n",
    "Creates queries/reports that extract role definitions and permissions for auditing purposes.</li><li>Acts as security administrator by processing access requests to HR \n",
    "applications and systems.</li><li>Ensures appropriate approvals are received for any ad hoc requests.</li><li>Serves as the SME that partners with various business areas to \n",
    "provide guidance on best practices and current HR security protocols.</li><li>Performs periodic audits of HR system user security/access.</li><li>Validates current company \n",
    "structure against employee job movement to maintain continuous access accuracy.</li><li>Looks for opportunities to increase efficiencies for common requests.</li><li>Supports \n",
    "employees/end users with HR system access issues.</li><li>Adheres to department’s SLA for processing requests.</li></ul><p><br></p><p>TABLE MAINTENANCE, UPLOADS &amp; DATA \n",
    "INTEGRITY AUDITS:</p><ul><li>Responsible for mass data uploads, coordinating with HR contacts to ensure accuracy in the process.</li><li>Performs data structure and integrity \n",
    "audits on employee data mass upload requests.</li><li>Seeks to minimize errors and determine impacts to downstream systems/processes, as well as impacts to employees due to \n",
    "requested changes/movement.</li><li>Updates system fields and tables associated with business changes and operations.</li><li>Maintains tables and security changes within HR \n",
    "Systems.</li><li>Proactively utilizes PeopleSoft Query, OBI Reporting or SQL tools to identify data integrity issues.</li><li>Determines the appropriate approach to ensure \n",
    "employee and company structure data elements are updated correctly.</li><li>Conducts data audits to identify potential non-compliance. I.e. personal data audits…duplicate \n",
    "NID, DOB out of guidelines.</li><li>Partners with internal audit to research and analyze potential data discrepancies.</li><li>Partners with ITG to implement automated access \n",
    "audit processes.</li><li>Participates in new projects through testing/implementation as it relates to access and security.</li><li>Completes mandatory training and courses \n",
    "required by completion date.</li><li>Reports questionable situations, concerns, complaints or harassment immediately.</li><li>Conducts audits of system process completions \n",
    "and reports out to business owners. i.e. Onboarding not complete.</li><li>Administers duplicate processing in ATS and other HR systems.</li><li>Ensures compliance regarding \n",
    "HR information sharing, management, organization, hierarchy determination, retrieval, accessibility, dissemination, sharing, and quality control.\n",
    "</li></ul><p><br></p><p><strong><u>Qualifications:</u></strong></p><p>Minimum Qualifications:</p><ul><li>Bachelor's degree preferred. Associate's degree with 4 years of \n",
    "related experience may be substituted for Bachelor's degree.</li><li>Four or more years of experience required in related field (i.e. Human Resources Operations, HRIS, HR \n",
    "Technology, IT, etc.).</li><li>Strong knowledge of Microsoft Word, Excel, and PowerPoint. Advanced Excel skills preferred. Strong analytic and diagnostic skills as well as \n",
    "a data-driven and metrics-driven approach.</li><li>Minimum 3 years of experience with PeopleSoft version 9.2 or higher preferred.</li><li>Experience with workflow analysis, \n",
    "business process analysis, finding improvement areas, and use of business modeling tools.</li><li>Experience with security and auditing processes.</li></ul><p><br></p><p>\n",
    "Machines, Equipment Used:</p><ul><li>General office equipment such as computer/laptop, telephone, copy/fax machine, calculator, scanner, etc.</li><li>Microsoft Office \n",
    "software, to include Outlook, Word, PowerPoint, and Excel.</li></ul><p><br></p><p>Physical Requirements:</p><ul><li>Visual acuity, speech recognition, speech clarity.\n",
    "</li><li>Ability to lift, lower, push, pull, and retrieve objects weighing a minimum of 15 pounds. Reasonable assistance may be requested when lifting, pushing, and/or \n",
    "pulling exceeds these minimum requirements.</li></ul><p><br></p><p>Skills and Abilities:</p><ul><li>Oral communication, written communication, fluency in English, active \n",
    "listening.</li><li>Information ordering, deductive reasoning, social perceptiveness, time management, critical thinking.</li><li>Ability to coordinate, analyze, observe, \n",
    "make decisions, and meet deadlines in a detail-oriented manner.</li><li>Ability to work independently without continuous supervision.</li><li>Ability to understand and \n",
    "react quickly to changing priorities.</li><li>Demonstrated accuracy and thoroughness while meeting customer needs in a timely manner.</li></ul><p><br></p><p>Environmental \n",
    "Conditions:</p><ul><li>Indoor, temperature controlled, smoke-free environment.</li><li>Handicapped accessible.</li><li>May work under stressful circumstances at times.\n",
    "</li></ul><p><br></p><p>Proficiency or Productivity Standards:</p><ul><li>Has regular, reliable, and predictable attendance and punctuality.</li><li>Adheres to dress code \n",
    "including wearing ID badge.</li><li>Adheres to Standards of Business Conduct.</li><li>May be required to work weekdays and/or weekends, evenings and/or night shifts if needed \n",
    "to meet deadlines.</li><li>May be required to work on religious and/or legal holidays on scheduled days/shifts.</li><li>May be required to perform other duties as assigned \n",
    "by supervisor.</li><li>This position will support cultural diversity by promoting and maintaining an inclusive work environment and culture that is respectful and accepting \n",
    "of diversity.</li></ul><p></p>\",\n",
    " \"\"\""
   ]
  },
  {
   "cell_type": "code",
   "execution_count": 14,
   "metadata": {},
   "outputs": [
    {
     "data": {
      "text/plain": [
       "{'@context': 'http://schema.org',\n",
       " '@type': 'JobPosting',\n",
       " 'datePosted': '2021-07-27T11:03:36.000Z',\n",
       " 'description': 'Tinder brings people together. With tens of millions of users and a presence in every country on earth, our reach is expansive and rapidly growing.<br><br>The Analytics team powers data-informed decision-making at Tinder. We are looking to add a hardworking, creative Data Scientist to our growing team. As a Data Scientist on Analytics, you will partner with multiple teams - including Product, Marketing, Engineering, and Finance - to improve our extraordinary platform. You will use this comprehensive dataset to develop experiments, forecasting models, automated reports, and various exploratory insights to guide our business decisions.<br><br>An effective Data Scientist at Tinder must have a passion and aptitude for turning sophisticated problems into concrete hypotheses that can be answered through thorough data analysis and A/B testing. They must also be able to disseminate their takeaways and recommendations to a variety of partners within our organization via presentations, reports, and dashboards. In this role, your insights will influence both the performance of our business and the experience of our users.<br><br><strong>Responsibilities:<br></strong><li>Be a leader with a point of view for the organization, using data to constantly challenge and reshape our current understanding of customer behavior and business performance</li><li>Derive and communicate data-driven recommendations regarding both the prioritization of potential product/marketing initiatives and performance of current initiatives</li><li>Define and operationalize the detailed tracking of company-wide, team-specific, and product-specific performance metrics via rollup tables, dashboards, and automated reporting</li><li>Design and analyze experiments to rigorously test a specific hypothesis</li><li>Find the “story” in the data and readily share insights across the organization<br><br></li><strong>Skills Required:<br></strong><li>No formal industry experience is required - we are looking for creative, tenacious problem solvers who are passionate about our product and excited to work with our rich, complex dataset</li><li>Ability to develop a nuanced business understanding, testable hypotheses, and meaningful findings from data</li><li>Eagerness to identify and explore new product/marketing opportunities, potential improvements to our data infrastructure, and unanswered questions about customer behavior</li><li>Outstanding written and verbal communication skills, and a willingness to collaborate with business partners</li><li>Comfort using descriptive and inferential statistics</li><li>Experience with SQL and data visualization tools (e.g. Tableau or Mode) is highly recommended</li><li>Familiarity with scripting languages, machine learning, advanced statistical techniques, and A/B testing is a plus<br><br></li><strong>As part of our team, you’ll enjoy:<br></strong><li> Working on a product that has an immediate impact on people’s lives all around the world</li><li> Collaborating with a team of creative, fun and driven colleagues</li><li> Comprehensive health coverage, competitive salary, 401(k) employer match, Employee Stock Purchase Plan (ESPP)</li><li> Other perks and wellness benefits like a fitness membership subsidy, paid concierge medical membership, pet insurance offerings, and a commuter subsidy</li><li> A robust Learning + Development offering including our MentorMatch program, access to a library of 6,000+ online learning courses through Udemy, and an annual L+D stipend</li><li> Access to mental health resources</li><li> Fertility preservation benefits</li><li> No Meeting Wednesdays and access to a wide range of product and service discounts through Perkspot</li><li> Charitable donations match up to $15,000 annually</li><li> Monthly and weekly interactive virtual events including Book Club, trivia with prizes and yoga workouts</li><li> The opportunity to join six active Employee Resource Groups (ERGs)<br><br></li>At Tinder, we don’t just accept difference — we celebrate it, we support it, and we thrive on it for the benefit of our employees, our product, and our community. We strive to make our workplace an inclusive and diverse environment, giving people from all walks of life the opportunity to have a voice. We champion and encourage those who bring different perspectives, ideas, and creativity to join our team dedicated to bringing people together across the globe. Tinder is proud to be an equal opportunity workplace where we welcome all people regardless of sex, gender identity, race, ethnicity, disability, or other lived experience.',\n",
       " 'employmentType': 'FULL_TIME',\n",
       " 'hiringOrganization': {'@type': 'Organization',\n",
       "  'name': 'Tinder',\n",
       "  'sameAs': 'https://www.linkedin.com/company/tinder-incorporated',\n",
       "  'logo': 'https://media-exp1.licdn.com/dms/image/C560BAQHbn-6bAXQP4g/company-logo_200_200/0/1570126074133?e=1637798400&amp;v=beta&amp;t=Rvkc7ko1PLzV-nJBNFz_V1ikJlinGJqBOtclFRgA914'},\n",
       " 'identifier': {'@type': 'PropertyValue',\n",
       "  'name': 'Tinder',\n",
       "  'value': 'b2e5a860-e36a-4519-916e-26debd95060b'},\n",
       " 'image': 'https://media-exp1.licdn.com/dms/image/C560BAQHbn-6bAXQP4g/company-logo_100_100/0/1570126074133?e=1637798400&v=beta&t=8kPjuxzI_YQTzbdR_p5UJdpbV69FRUbAhOmheD-jtvY',\n",
       " 'industry': 'Marketing and Advertising,Computer Software,Internet',\n",
       " 'jobLocation': {'@type': 'Place',\n",
       "  'address': {'@type': 'PostalAddress',\n",
       "   'addressCountry': 'US',\n",
       "   'addressLocality': 'Los Angeles',\n",
       "   'addressRegion': 'CA',\n",
       "   'postalCode': '90101',\n",
       "   'streetAddress': None},\n",
       "  'latitude': 34.05224,\n",
       "  'longitude': -118.24335},\n",
       " 'skills': '',\n",
       " 'title': 'Data Scientist',\n",
       " 'validThrough': '2021-09-20T11:03:36.000Z',\n",
       " 'educationRequirements': {'@type': 'EducationalOccupationalCredential',\n",
       "  'credentialCategory': 'bachelor degree'},\n",
       " 'estimatedSalary': {'@type': 'MonetaryAmount',\n",
       "  'currency': 'USD',\n",
       "  'value': {'@type': 'QuantitativeValue',\n",
       "   'minValue': 111000,\n",
       "   'maxValue': 151000,\n",
       "   'unitText': 'YEAR'}}}"
      ]
     },
     "execution_count": 14,
     "metadata": {},
     "output_type": "execute_result"
    }
   ],
   "source": [
    "data_as_json[2]"
   ]
  },
  {
   "cell_type": "code",
   "execution_count": null,
   "metadata": {},
   "outputs": [],
   "source": [
    "\"\"\"Tinder brings people together. With tens of millions of users and a presence in every country on earth, our reach is expansive and rapidly growing.\n",
    "<br><br>The Analytics team powers data-informed decision-making at Tinder. We are looking to add a hardworking, creative Data Scientist to our growing team.\n",
    "As a Data Scientist on Analytics, you will partner with multiple teams - including Product, Marketing, Engineering, and Finance - to improve our extraordinary platform.\n",
    "You will use this comprehensive dataset to develop experiments, forecasting models, automated reports, and various exploratory insights to guide our business decisions.\n",
    "<br><br>An effective Data Scientist at Tinder must have a passion and aptitude for turning sophisticated problems into concrete hypotheses that can be answered through \n",
    "thorough data analysis and A/B testing. They must also be able to disseminate their takeaways and recommendations to a variety of partners within our organization via \n",
    "presentations, reports, and dashboards. In this role, your insights will influence both the performance of our business and the experience of our users.<br><br><strong>\n",
    "Responsibilities:<br></strong><li>Be a leader with a point of view for the organization, using data to constantly challenge and reshape our current understanding of \n",
    "customer behavior and business performance</li><li>Derive and communicate data-driven recommendations regarding both the prioritization of potential product/marketing\n",
    "initiatives and performance of current initiatives</li><li>Define and operationalize the detailed tracking of company-wide, team-specific, and product-specific \n",
    "performance metrics via rollup tables, dashboards, and automated reporting</li><li>Design and analyze experiments to rigorously test a specific hypothesis</li><li>\n",
    "Find the “story” in the data and readily share insights across the organization<br><br></li><strong>Skills Required:<br></strong><li>No formal industry experience is \n",
    "required - we are looking for creative, tenacious problem solvers who are passionate about our product and excited to work with our rich, complex dataset</li><li>Ability\n",
    "to develop a nuanced business understanding, testable hypotheses, and meaningful findings from data</li><li>Eagerness to identify and explore new product/marketing \n",
    "opportunities, potential improvements to our data infrastructure, and unanswered questions about customer behavior</li><li>Outstanding written and verbal communication\n",
    "skills, and a willingness to collaborate with business partners</li><li>Comfort using descriptive and inferential statistics</li><li>Experience with SQL and data \n",
    "visualization tools (e.g. Tableau or Mode) is highly recommended</li><li>Familiarity with scripting languages, machine learning, advanced statistical techniques, \n",
    "and A/B testing is a plus<br><br></li><strong>As part of our team, you’ll enjoy:<br></strong><li> Working on a product that has an immediate impact on people’s \n",
    "lives all around the world</li><li> Collaborating with a team of creative, fun and driven colleagues</li><li> Comprehensive health coverage, competitive salary,\n",
    "401(k) employer match, Employee Stock Purchase Plan (ESPP)</li><li> Other perks and wellness benefits like a fitness membership subsidy, paid concierge medical \n",
    "membership, pet insurance offerings, and a commuter subsidy</li><li> A robust Learning + Development offering including our MentorMatch program, access to a \n",
    "library of 6,000+ online learning courses through Udemy, and an annual L+D stipend</li><li> Access to mental health resources</li><li> Fertility preservation \n",
    "benefits</li><li> No Meeting Wednesdays and access to a wide range of product and service discounts through Perkspot</li><li> Charitable donations match up \n",
    "to $15,000 annually</li><li> Monthly and weekly interactive virtual events including Book Club, trivia with prizes and yoga workouts</li><li> The opportunity\n",
    "to join six active Employee Resource Groups (ERGs)<br><br></li>At Tinder, we don’t just accept difference — we celebrate it, we support it, and we thrive \n",
    "on it for the benefit of our employees, our product, and our community. We strive to make our workplace an inclusive and diverse environment, giving people \n",
    "from all walks of life the opportunity to have a voice. We champion and encourage those who bring different perspectives, ideas, and creativity to join our \n",
    "team dedicated to bringing people together across the globe. Tinder is proud to be an equal opportunity workplace where we welcome all people regardless of \n",
    "sex, gender identity, race, ethnicity, disability, or other lived experience.',\n",
    " \"\"\""
   ]
  },
  {
   "cell_type": "code",
   "execution_count": 15,
   "metadata": {},
   "outputs": [
    {
     "data": {
      "text/plain": [
       "{'@context': 'http://schema.org',\n",
       " '@type': 'JobPosting',\n",
       " 'datePosted': '2021-09-02T06:08:31.000Z',\n",
       " 'description': 'The volunteer opportunity below is a request from an educator for you to interact with his or her classroom. The interaction is virtual so as long as you have a good internet connection and computer or device with a camera, you can participate from anywhere. The goal of the interaction is to bring real world application, professional experience and relevance to what the educator is teaching. Once you accept the request for one of the dates proposed by the educator, Nepris will provide support and next steps to help you prepare and make sure you are successful. You can also highlight this experience to strengthen the volunteer section of your LinkedIn profile.<br><br><strong>Volunteer Virtual Classroom Speaker (Meet a Software Engineer)<br><br></strong><strong><u>Description<br><br></u></strong>We are investigating potential career pathways. The goal of this conversation is to provide a realistic view of the profession to the students to help them in their decision-making process.<br><br>Key Questions<br><br>What does a typical day look like in your occupation? What do you spend most of your time doing every day?<br><br>What are the day to day responsibilities that someone outside of your field might not know about?<br><br>What can you tell us about related occupations in your field?<br><br>What levels of education and training are required?<br><br>Once you complete the basic educational/training requirements for this occupation, are there other related occupations that a person would be qualified for?<br><br>Tell us how what they are learning in school now applies to your occupation.<br><br>What should their focus be as freshmen if this profession is their ultimate goal?<br><br>Expected Outcomes<br><br>I would like for my students to get a good overview of what to expect from a career in this field and what it takes to get there.<br><br>Requester<br><br>Susan Hollingsworth,K12 VIRTUAL SCHOOLS<br><br>Proposed Dates<br><br>11/11/2021 11:00 AM America/New_York<br><br>Duration<br><br>01 hrs00 mins<br><br>Classes<br><br>Subjects Other<br><br>Grade level<br><br>Middle School, High School<br><br>No. of Students<br><br>23<br><br>Topic<br><br>Meet a Software Engineer<br><br>Sub Topic<br><br>Not Specified<br><br>Preferences<br><br>Not Specified<br><br>Specialties<br><br>Not Specified<br><br>Companies<br><br>Not Specified',\n",
       " 'employmentType': 'OTHER',\n",
       " 'hiringOrganization': {'@type': 'Organization',\n",
       "  'name': 'Nepris Inc.',\n",
       "  'sameAs': 'https://www.linkedin.com/company/nepris',\n",
       "  'logo': 'https://media-exp1.licdn.com/dms/image/C560BAQHY8qMO3WXLOg/company-logo_200_200/0/1550161111055?e=1638403200&amp;v=beta&amp;t=7O4zarOPE_upPM8h2AJlyswVnFvUv8wvhLLTuRC7qxM'},\n",
       " 'identifier': {'@type': 'PropertyValue',\n",
       "  'name': 'Nepris Inc.',\n",
       "  'value': '9c7987c8586a1ce341aead40f94b0cdf'},\n",
       " 'image': 'https://media-exp1.licdn.com/dms/image/C560BAQHY8qMO3WXLOg/company-logo_100_100/0/1550161111055?e=1638403200&v=beta&t=IEN7zG2RE3HUcoWW14TAzAGmXQs1wlYFgjOV8y8BbWU',\n",
       " 'industry': 'Computer Software,Higher Education,Information Technology and Services',\n",
       " 'jobLocation': {'@type': 'Place',\n",
       "  'address': {'@type': 'PostalAddress',\n",
       "   'addressCountry': 'US',\n",
       "   'addressLocality': 'Newark',\n",
       "   'addressRegion': 'NJ',\n",
       "   'postalCode': '07112',\n",
       "   'streetAddress': None},\n",
       "  'latitude': 40.731506,\n",
       "  'longitude': -74.174385},\n",
       " 'skills': '',\n",
       " 'title': 'Volunteer Virtual Classroom Speaker (Meet a Software Engineer)',\n",
       " 'validThrough': '2021-10-02T06:08:29.000Z'}"
      ]
     },
     "execution_count": 15,
     "metadata": {},
     "output_type": "execute_result"
    }
   ],
   "source": [
    "data_as_json[15]"
   ]
  },
  {
   "cell_type": "code",
   "execution_count": 16,
   "metadata": {},
   "outputs": [
    {
     "data": {
      "text/plain": [
       "{'@context': 'http://schema.org',\n",
       " '@type': 'JobPosting',\n",
       " 'datePosted': '2021-08-16T11:25:14.000Z',\n",
       " 'description': \"<strong><u>About NCR<br><br></u></strong>NCR Corporation (NYSE: NCR) is a leading software- and services-led enterprise provider in the financial, retail and hospitality industries. NCR is headquartered in Atlanta, Georgia, with 36,000 employees globally. NCR is a trademark of NCR Corporation in the United States and other countries.<br><br>Software Engineer - Dot Net developer<br><br>Location- Addison, TX<br><br><strong><u>Position Summary &amp; Key Areas Of Responsibility<br><br></u></strong>Working on the NCR Payments Gateway Team by working with team of software engineers to provide new features and functionality to the existing and next generation applications<br><br>Supporting production by triaging and managing hot fix releases and defects throughout the development life cycle including testing and deployment.<br><br>Facilitate requirements refinement and design sessions and translate information gathered in those sessions into business processes, system design documents, and models<br><br>Working with various communication and security protocols to improve the quality of the product.<br><br><strong><u>Qualifications<br><br></u></strong>REQUIRED (0-3 Years of Experience)<br><br>C#.NET Development<br><br>Web UI Development (HTML, CSS, etc.)<br><br>Database Development (MSSQL, TSQL)<br><br>Stored Procedures, Triggers, Joins, Unions, Analyzing Execution Plans, Query Debugging, Creation and Maintenance of Indexes, Replication Methodologies<br><br>Object-Oriented Programming<br><br>Automated Unit Testing (NUnit, etc.) and understanding of QA<br><br>Agile methodologies and frameworks (Scrum, Kanban, Lean, etc.)<br><br>Multi-Threading<br><br>Garbage Collection<br><br>Memory Management<br><br><strong><u>Preferred<br><br></u></strong>Payment Processing Systems<br><br>Real Time Transaction Processing Systems<br><br>Windows and/or Linux OS Administration<br><br>Scripting Languages (Powershell, Python, Bash, etc)<br><br>Design Patterns (Pub/Sub, Asynchronous/Synchronous, Singleton, Factory, Broker, MEP (Message Exchange Patterns), etc.)<br><br>Nginx/Kestral<br><br>ISTIO/Service Mesh<br><br>Visual Studio 2019 or Eclipse IDE<br><br>Putty<br><br>Postman<br><br>Fiddler<br><br>GIT<br><br>Basic Networking and Understanding of Load Balancing Algorithms<br><br>Business Driven Development (BDD) and Test Driven Development (TDD) Practices<br><br>SOLID Programming Principles<br><br>Delivering Enterprise Level Solutions<br><br>Strong communication skills and desire to learn.<br><br>Offers of employment are conditional upon passage of screening criteria applicable to the job.<br><br><strong><u>Full Time Employee Benefits Include<br></u></strong><ul><li>Medical Insurance</li><li>Dental Insurance</li><li>Life Insurance</li><li>Vision Insurance</li><li>Short/Long Term Disability</li><li>Paid Vacation</li><li>401k<br></li></ul><strong>EEO Statement<br><br></strong>Integrated into our shared values is NCR's commitment to diversity and equal employment opportunity. All qualified applicants will receive consideration for employment without regard to sex, age, race, color, creed, religion, national origin, disability, sexual orientation, gender identity, veteran status, military service, genetic information, or any other characteristic or conduct protected by law. NCR is committed to being a globally inclusive company where all people are treated fairly, recognized for their individuality, promoted based on performance and encouraged to strive to reach their full potential. We believe in understanding and respecting differences among all people. Every individual at NCR has an ongoing responsibility to respect and support a globally diverse environment.<br><br><strong>Statement to Third Party Agencies<br><br></strong>To ALL recruitment agencies: NCR only accepts resumes from agencies on the NCR preferred supplier list. Please do not forward resumes to our applicant tracking system, NCR employees, or any NCR facility. NCR is not responsible for any fees or charges associated with unsolicited resumes.\",\n",
       " 'employmentType': 'FULL_TIME',\n",
       " 'hiringOrganization': {'@type': 'Organization',\n",
       "  'name': 'NCR Corporation',\n",
       "  'sameAs': 'https://www.linkedin.com/company/ncr-corporation',\n",
       "  'logo': 'https://media-exp1.licdn.com/dms/image/C4D0BAQF53dmvP1U-Uw/company-logo_200_200/0/1625143135843?e=1637193600&amp;v=beta&amp;t=dww6EiK6yxhpBfFt6Hs99q2L3ELVGrnfx8aiv_VLi5Y'},\n",
       " 'identifier': {'@type': 'PropertyValue',\n",
       "  'name': 'NCR Corporation',\n",
       "  'value': 'R0111093'},\n",
       " 'image': 'https://media-exp1.licdn.com/dms/image/C4D0BAQF53dmvP1U-Uw/company-logo_100_100/0/1625143135843?e=1637193600&v=beta&t=ghI4WHFBoMyBmGlU6T8Vh7V8NZQy7lt8Ja84OQuKBEg',\n",
       " 'industry': 'Information Technology and Services,Computer Software,Financial Services',\n",
       " 'jobLocation': {'@type': 'Place',\n",
       "  'address': {'@type': 'PostalAddress',\n",
       "   'addressCountry': 'US',\n",
       "   'addressLocality': 'Addison',\n",
       "   'addressRegion': 'TX',\n",
       "   'postalCode': '75001',\n",
       "   'streetAddress': None},\n",
       "  'latitude': 32.968605,\n",
       "  'longitude': -96.83004},\n",
       " 'skills': '',\n",
       " 'title': 'Software Engineer I',\n",
       " 'validThrough': '2021-09-15T11:25:13.000Z',\n",
       " 'educationRequirements': {'@type': 'EducationalOccupationalCredential',\n",
       "  'credentialCategory': 'bachelor degree'},\n",
       " 'experienceRequirements': 'no requirements'}"
      ]
     },
     "execution_count": 16,
     "metadata": {},
     "output_type": "execute_result"
    }
   ],
   "source": [
    "data_as_json[200]"
   ]
  },
  {
   "cell_type": "code",
   "execution_count": 17,
   "metadata": {},
   "outputs": [
    {
     "data": {
      "text/plain": [
       "{'@context': 'http://schema.org',\n",
       " '@type': 'JobPosting',\n",
       " 'datePosted': '2021-08-07T18:11:21.000Z',\n",
       " 'description': \"In this age of disruption, organizations need to navigate the future with confidence by tapping into the power of data analytics, robotics, and cognitive technologies such as Artificial Intelligence (AI). Our Strategy &amp; Analytics portfolio helps clients leverage rigorous analytical capabilities and a pragmatic mindset to solve the most complex of problems. By joining our team, you will play a key role in helping to our clients uncover hidden relationships from vast troves of data and transforming the Government and Public Services marketplace.<br><br>Work you'll do<br><br>The Data Scientist will join a team responsible for developing advanced analytics products; applying data visualization and statistical programming tools to enterprise data to advance and enable the key mission outcomes. In this role, they will support all phases of analytic work product development, from the identification of key business questions, through data collection and ETL, from performing analyses and using a wide range of statistical, machine learning, and applied mathematical techniques to delivery insights to decision-makers. This role requires special attention to the interplay between data and the business processes that produce it and the decision-makers that consume insights.<br><br>The team<br><br>Deloitte's Government and Public Services (GPS) practice - our people, ideas, technology and outcomes-is designed for impact. Serving federal, state, &amp; local government clients as well as public higher education institutions, our team of over 15,000+ professionals brings fresh perspective to help clients anticipate disruption, reimagine the possible, and fulfill their mission promise.<br><br>The GPS Analytics and Cognitive (A&amp;C) offering is responsible for developing advanced analytics products and applying data visualization and statistical programming tools to enterprise data in order to advance and enable the key mission outcomes for our clients. Our team supports all phases of analytic work product development, from the identification of key business questions through data collection and ETL, and from performing analyses and using a wide range of statistical, machine learning, and applied mathematical techniques to delivery insights to decision-makers. Our practitioners give special attention to the interplay between data and the business processes that produce it and the decision-makers that consume insights.<br><br><strong><u>Qualifications<br><br></u></strong>Required:<br><ul><li> Active Federal Security Clearance </li><li> Must be able to obtain and maintain the required clearance for this role </li><li>3+ overall years of relevant professional experience</li><li>3+ years of experience leveraging data analysis to construct strategic narratives</li><li>3+ years of experience with programming languages such as Python, Java, R</li><li>3+ years of experience with data visualization tools, such as Tableau, Qlik, PowerBI, or equivalent</li><li>3+ years data engineering experience with ETL, SQL, NoSQL Apache Hadoop</li><li> Must be legally authorized to work in the United States without the need for employer sponsorship, now or at any time in the future <br></li></ul>Preferred:<br><ul><li>2+ years of experience with structured and unstructured data and using ML to solve problems with unstructured data sets and relational database</li><li> Experience with Spark </li><li> Experience deploying ML models to low power systems for inference </li><li> Experience with containerization </li><li> 2+ years of relevant consulting or industry experience </li><li> Master's degree in Computer Science, Engineering, Mathematics or other STEM </li><li> Prior professional services or federal consulting experience </li><li> Familiarity with Agile project management principles </li><li> Confidence to drive assignments to completion </li><li> Eagerness to learn and develop <br></li></ul>How you'll grow<br><br>At Deloitte, our professional development plan focuses on helping people at every level of their career to identify and use their strengths to do their best work every day. From entry-level employees to senior leaders, we believe there's always room to learn. We offer opportunities to help sharpen skills in addition to hands-on experience in the global, fast-changing business world. From on-the-job learning experiences to formal development programs, our professionals have a variety of opportunities to continue to grow throughout their career.\",\n",
       " 'employmentType': 'FULL_TIME',\n",
       " 'hiringOrganization': {'@type': 'Organization',\n",
       "  'name': 'Deloitte',\n",
       "  'sameAs': 'https://www.linkedin.com/company/deloitte',\n",
       "  'logo': 'https://media-exp1.licdn.com/dms/image/C4E0BAQHda-o9KT2w5Q/company-logo_200_200/0/1625689676984?e=1638403200&amp;v=beta&amp;t=n9WLLsqJlQL5lg7-STgEG9_5I77fpzPE3oxz_mWdjAE'},\n",
       " 'identifier': {'@type': 'PropertyValue',\n",
       "  'name': 'Deloitte',\n",
       "  'value': '42320'},\n",
       " 'image': 'https://media-exp1.licdn.com/dms/image/C4E0BAQHda-o9KT2w5Q/company-logo_100_100/0/1625689676984?e=1638403200&v=beta&t=1wGprIlNJp2j9sYm51UZuUvVbBdefFM9jE2w09Ki2hU',\n",
       " 'industry': 'Accounting,Information Technology and Services,Management Consulting',\n",
       " 'jobLocation': {'@type': 'Place',\n",
       "  'address': {'@type': 'PostalAddress',\n",
       "   'addressCountry': 'US',\n",
       "   'addressLocality': 'Arlington',\n",
       "   'addressRegion': 'VA',\n",
       "   'postalCode': '22210',\n",
       "   'streetAddress': None},\n",
       "  'latitude': 38.890762,\n",
       "  'longitude': -77.084755},\n",
       " 'skills': '',\n",
       " 'title': 'Junior Data Scientist',\n",
       " 'validThrough': '2021-10-01T18:11:21.000Z',\n",
       " 'educationRequirements': {'@type': 'EducationalOccupationalCredential',\n",
       "  'credentialCategory': 'bachelor degree'},\n",
       " 'experienceRequirements': {'@type': 'OccupationalExperienceRequirements',\n",
       "  'monthsOfExperience': 36}}"
      ]
     },
     "execution_count": 17,
     "metadata": {},
     "output_type": "execute_result"
    }
   ],
   "source": [
    "data_as_json[300]"
   ]
  },
  {
   "cell_type": "code",
   "execution_count": 9,
   "metadata": {},
   "outputs": [],
   "source": [
    "template = {\n",
    "            \"job\": {\n",
    "                \"title\": \"None\",\n",
    "                \"industry\": \"None\",\n",
    "                \"description\": \"None\",\n",
    "                \"employment_type\": \"None\",\n",
    "                \"date_posted\": \"None\",\n",
    "            },\n",
    "            \"company\": {\n",
    "                \"name\": \"None\",\n",
    "                \"link\": \"None\",\n",
    "            },\n",
    "            \"education\": {\n",
    "                \"required_credential\": \"None\",\n",
    "            },\n",
    "            \"experience\": {\n",
    "                \"months_of_experience\": \"None\",\n",
    "                \"seniority_level\": \"None\",\n",
    "            },\n",
    "            \"salary\": {\n",
    "                \"currency\": \"None\",\n",
    "                \"min_value\": \"None\",\n",
    "                \"max_value\": \"None\",\n",
    "                \"unit\": \"None\",\n",
    "            },\n",
    "            \"location\": {\n",
    "                \"country\": \"None\",\n",
    "                \"locality\": \"None\",\n",
    "                \"region\": \"None\",\n",
    "                \"postal_code\": \"None\",\n",
    "                \"street_address\": \"None\",\n",
    "                \"latitude\": \"None\",\n",
    "                \"longitude\": \"None\",\n",
    "            },\n",
    "        }"
   ]
  },
  {
   "cell_type": "code",
   "execution_count": 10,
   "metadata": {},
   "outputs": [],
   "source": [
    "columns = template.keys()"
   ]
  },
  {
   "cell_type": "code",
   "execution_count": 13,
   "metadata": {},
   "outputs": [
    {
     "name": "stdout",
     "output_type": "stream",
     "text": [
      "INSERT INTO job (title, industry, description, employment_type, date_posted) VALUES ('None', 'None', 'None', 'None', 'None');\n",
      "INSERT INTO company (name, link) VALUES ('None', 'None');\n",
      "INSERT INTO education (required_credential) VALUES ('None');\n",
      "INSERT INTO experience (months_of_experience, seniority_level) VALUES ('None', 'None');\n",
      "INSERT INTO salary (currency, min_value, max_value, unit) VALUES ('None', 'None', 'None', 'None');\n",
      "INSERT INTO location (country, locality, region, postal_code, street_address, latitude, longitude) VALUES ('None', 'None', 'None', 'None', 'None', 'None', 'None');\n"
     ]
    }
   ],
   "source": [
    "for col in columns:\n",
    "    feilds = list(template[col].keys())\n",
    "    values = ', '.join([f\"'{template[col][feild]}'\" for feild in feilds])\n",
    "    feilds = ', '.join(feilds)\n",
    "\n",
    "    print(f\"INSERT INTO {col} ({feilds}) VALUES ({values});\")\n"
   ]
  },
  {
   "cell_type": "code",
   "execution_count": null,
   "metadata": {},
   "outputs": [],
   "source": []
  }
 ],
 "metadata": {
  "kernelspec": {
   "display_name": "venv",
   "language": "python",
   "name": "python3"
  },
  "language_info": {
   "codemirror_mode": {
    "name": "ipython",
    "version": 3
   },
   "file_extension": ".py",
   "mimetype": "text/x-python",
   "name": "python",
   "nbconvert_exporter": "python",
   "pygments_lexer": "ipython3",
   "version": "3.10.12"
  }
 },
 "nbformat": 4,
 "nbformat_minor": 2
}
